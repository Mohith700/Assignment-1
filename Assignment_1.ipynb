{
  "nbformat": 4,
  "nbformat_minor": 0,
  "metadata": {
    "colab": {
      "provenance": []
    },
    "kernelspec": {
      "name": "python3",
      "display_name": "Python 3"
    },
    "language_info": {
      "name": "python"
    }
  },
  "cells": [
    {
      "cell_type": "code",
      "execution_count": 17,
      "metadata": {
        "colab": {
          "base_uri": "https://localhost:8080/"
        },
        "id": "LvqFAIFPNzRf",
        "outputId": "ff0d3c1e-a03c-4a08-e4b6-5d53ecc3e92d"
      },
      "outputs": [
        {
          "output_type": "stream",
          "name": "stdout",
          "text": [
            "Enter the string 'Python': python\n",
            "output: nhyp\n",
            "Enter the 1st number: 2\n",
            "Enter the 2nd number: 3\n",
            "arithmetic operations\n",
            "addition:n1+n2= 5.0\n",
            "multiplication:n1*n2= 6.0\n",
            "substraction:n1-n2= -1.0\n",
            "Division:n1/n2= 0.6666666666666666\n"
          ]
        }
      ],
      "source": [
        "# Getting input string \"Python\" as a list from the console\n",
        "string = list(input(\"Enter the string 'Python': \"))\n",
        "\n",
        "\n",
        "del string[2]\n",
        "del string[3]\n",
        "\n",
        "# Reverse the result string\n",
        "resultstring = string[::-1]\n",
        "\n",
        "# Print the reversed string\n",
        "print(\"output:\",\"\".join(resultstring))\n",
        "\n",
        "# Take two numbers from the user\n",
        "n1 = float(input(\"Enter the 1st number: \"))\n",
        "n2 = float(input(\"Enter the 2nd number: \"))\n",
        "\n",
        "# Performing  4 arithmetic operations\n",
        "\n",
        "\n",
        "print(\"arithmetic operations\")\n",
        "print(\"addition:n1+n2=\",n1+n2)\n",
        "print(\"multiplication:n1*n2=\",n1*n2)\n",
        "print(\"substraction:n1-n2=\",n1-n2)\n",
        "print(\"Division:n1/n2=\",n1/n2)"
      ]
    },
    {
      "cell_type": "code",
      "source": [
        "# Accept a sentence from the user\n",
        "sentence = input(\"Enter a sentence: \")\n",
        "\n",
        "outsentence = sentence.replace('python', 'pythons')\n",
        "\n",
        "# Print the result\n",
        "print(\"output:\",outsentence)\n"
      ],
      "metadata": {
        "colab": {
          "base_uri": "https://localhost:8080/"
        },
        "id": "CMDneMeqiAem",
        "outputId": "2554032b-d152-44e6-9bce-7488ed9c45c1"
      },
      "execution_count": 10,
      "outputs": [
        {
          "output_type": "stream",
          "name": "stdout",
          "text": [
            "Enter a sentence: I love playing with python\n",
            "output: I love playing with pythons\n"
          ]
        }
      ]
    },
    {
      "cell_type": "code",
      "source": [
        "class_score = float(input(\"Enter the class score: \"))\n",
        "\n",
        "#using if statements for respective grades\n",
        "if class_score >= 90:\n",
        "    grade = 'A'\n",
        "elif class_score >= 80:\n",
        "    grade = 'B'\n",
        "elif class_score >= 70:\n",
        "    grade = 'C'\n",
        "elif class_score >= 60:\n",
        "    grade = 'D'\n",
        "else:\n",
        "    grade = 'F'\n",
        "\n",
        "# Print the letter grade\n",
        "print(\"The grade for score\",class_score,\"is\",grade)\n"
      ],
      "metadata": {
        "colab": {
          "base_uri": "https://localhost:8080/"
        },
        "id": "UykPOVYY7QD0",
        "outputId": "eda5c604-f2aa-4b2f-ac75-b365dc724b21"
      },
      "execution_count": null,
      "outputs": [
        {
          "output_type": "stream",
          "name": "stdout",
          "text": [
            "Enter the class score: 76\n",
            "The grade for score 76.0 is C\n"
          ]
        }
      ]
    }
  ]
}